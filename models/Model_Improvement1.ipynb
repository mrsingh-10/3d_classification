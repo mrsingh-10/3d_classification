{
  "nbformat": 4,
  "nbformat_minor": 0,
  "metadata": {
    "colab": {
      "provenance": [],
      "toc_visible": true
    },
    "kernelspec": {
      "name": "python3",
      "display_name": "Python 3"
    },
    "language_info": {
      "name": "python"
    },
    "accelerator": "GPU",
    "gpuClass": "standard"
  },
  "cells": [
    {
      "cell_type": "markdown",
      "source": [
        "#MODEL IMPROVEMENT"
      ],
      "metadata": {
        "id": "JqfZ2noGtbGR"
      }
    },
    {
      "cell_type": "code",
      "source": [
        "#Package that need to be installed\n",
        "!pip install open3d"
      ],
      "metadata": {
        "id": "DghyXjr0QJBx",
        "colab": {
          "base_uri": "https://localhost:8080/",
          "height": 1000
        },
        "outputId": "185b4604-a587-48e7-c8e2-c4e842af141d"
      },
      "execution_count": null,
      "outputs": [
        {
          "output_type": "stream",
          "name": "stdout",
          "text": [
            "Looking in indexes: https://pypi.org/simple, https://us-python.pkg.dev/colab-wheels/public/simple/\n",
            "Collecting open3d\n",
            "  Downloading open3d-0.16.0-cp38-cp38-manylinux_2_27_x86_64.whl (422.5 MB)\n",
            "\u001b[2K     \u001b[90m━━━━━━━━━━━━━━━━━━━━━━━━━━━━━━━━━━━━━━━\u001b[0m \u001b[32m422.5/422.5 MB\u001b[0m \u001b[31m3.6 MB/s\u001b[0m eta \u001b[36m0:00:00\u001b[0m\n",
            "\u001b[?25hCollecting dash>=2.6.0\n",
            "  Downloading dash-2.8.0-py3-none-any.whl (9.9 MB)\n",
            "\u001b[2K     \u001b[90m━━━━━━━━━━━━━━━━━━━━━━━━━━━━━━━━━━━━━━━━\u001b[0m \u001b[32m9.9/9.9 MB\u001b[0m \u001b[31m74.5 MB/s\u001b[0m eta \u001b[36m0:00:00\u001b[0m\n",
            "\u001b[?25hCollecting nbformat==5.5.0\n",
            "  Downloading nbformat-5.5.0-py3-none-any.whl (75 kB)\n",
            "\u001b[2K     \u001b[90m━━━━━━━━━━━━━━━━━━━━━━━━━━━━━━━━━━━━━━━━\u001b[0m \u001b[32m75.3/75.3 KB\u001b[0m \u001b[31m10.0 MB/s\u001b[0m eta \u001b[36m0:00:00\u001b[0m\n",
            "\u001b[?25hRequirement already satisfied: ipywidgets>=7.6.0 in /usr/local/lib/python3.8/dist-packages (from open3d) (7.7.1)\n",
            "Collecting configargparse\n",
            "  Downloading ConfigArgParse-1.5.3-py3-none-any.whl (20 kB)\n",
            "Collecting addict\n",
            "  Downloading addict-2.4.0-py3-none-any.whl (3.8 kB)\n",
            "Requirement already satisfied: matplotlib>=3 in /usr/local/lib/python3.8/dist-packages (from open3d) (3.2.2)\n",
            "Requirement already satisfied: pandas>=1.0 in /usr/local/lib/python3.8/dist-packages (from open3d) (1.3.5)\n",
            "Collecting pyquaternion\n",
            "  Downloading pyquaternion-0.9.9-py3-none-any.whl (14 kB)\n",
            "Requirement already satisfied: scikit-learn>=0.21 in /usr/local/lib/python3.8/dist-packages (from open3d) (1.0.2)\n",
            "Requirement already satisfied: tqdm in /usr/local/lib/python3.8/dist-packages (from open3d) (4.64.1)\n",
            "Requirement already satisfied: numpy>1.15 in /usr/local/lib/python3.8/dist-packages (from open3d) (1.21.6)\n",
            "Collecting pillow>=8.2.0\n",
            "  Downloading Pillow-9.4.0-cp38-cp38-manylinux_2_28_x86_64.whl (3.4 MB)\n",
            "\u001b[2K     \u001b[90m━━━━━━━━━━━━━━━━━━━━━━━━━━━━━━━━━━━━━━━━\u001b[0m \u001b[32m3.4/3.4 MB\u001b[0m \u001b[31m52.9 MB/s\u001b[0m eta \u001b[36m0:00:00\u001b[0m\n",
            "\u001b[?25hRequirement already satisfied: pyyaml>=5.4.1 in /usr/local/lib/python3.8/dist-packages (from open3d) (6.0)\n",
            "Requirement already satisfied: traitlets>=5.1 in /usr/local/lib/python3.8/dist-packages (from nbformat==5.5.0->open3d) (5.7.1)\n",
            "Requirement already satisfied: jupyter_core in /usr/local/lib/python3.8/dist-packages (from nbformat==5.5.0->open3d) (5.1.3)\n",
            "Requirement already satisfied: fastjsonschema in /usr/local/lib/python3.8/dist-packages (from nbformat==5.5.0->open3d) (2.16.2)\n",
            "Requirement already satisfied: jsonschema>=2.6 in /usr/local/lib/python3.8/dist-packages (from nbformat==5.5.0->open3d) (4.3.3)\n",
            "Collecting dash-table==5.0.0\n",
            "  Downloading dash_table-5.0.0-py3-none-any.whl (3.9 kB)\n",
            "Requirement already satisfied: plotly>=5.0.0 in /usr/local/lib/python3.8/dist-packages (from dash>=2.6.0->open3d) (5.5.0)\n",
            "Collecting dash-core-components==2.0.0\n",
            "  Downloading dash_core_components-2.0.0-py3-none-any.whl (3.8 kB)\n",
            "Collecting dash-html-components==2.0.0\n",
            "  Downloading dash_html_components-2.0.0-py3-none-any.whl (4.1 kB)\n",
            "Requirement already satisfied: Flask>=1.0.4 in /usr/local/lib/python3.8/dist-packages (from dash>=2.6.0->open3d) (1.1.4)\n",
            "Requirement already satisfied: ipykernel>=4.5.1 in /usr/local/lib/python3.8/dist-packages (from ipywidgets>=7.6.0->open3d) (5.3.4)\n",
            "Requirement already satisfied: ipython>=4.0.0 in /usr/local/lib/python3.8/dist-packages (from ipywidgets>=7.6.0->open3d) (7.9.0)\n",
            "Requirement already satisfied: widgetsnbextension~=3.6.0 in /usr/local/lib/python3.8/dist-packages (from ipywidgets>=7.6.0->open3d) (3.6.1)\n",
            "Requirement already satisfied: ipython-genutils~=0.2.0 in /usr/local/lib/python3.8/dist-packages (from ipywidgets>=7.6.0->open3d) (0.2.0)\n",
            "Requirement already satisfied: jupyterlab-widgets>=1.0.0 in /usr/local/lib/python3.8/dist-packages (from ipywidgets>=7.6.0->open3d) (3.0.5)\n",
            "Requirement already satisfied: pyparsing!=2.0.4,!=2.1.2,!=2.1.6,>=2.0.1 in /usr/local/lib/python3.8/dist-packages (from matplotlib>=3->open3d) (3.0.9)\n",
            "Requirement already satisfied: python-dateutil>=2.1 in /usr/local/lib/python3.8/dist-packages (from matplotlib>=3->open3d) (2.8.2)\n",
            "Requirement already satisfied: kiwisolver>=1.0.1 in /usr/local/lib/python3.8/dist-packages (from matplotlib>=3->open3d) (1.4.4)\n",
            "Requirement already satisfied: cycler>=0.10 in /usr/local/lib/python3.8/dist-packages (from matplotlib>=3->open3d) (0.11.0)\n",
            "Requirement already satisfied: pytz>=2017.3 in /usr/local/lib/python3.8/dist-packages (from pandas>=1.0->open3d) (2022.7)\n",
            "Requirement already satisfied: joblib>=0.11 in /usr/local/lib/python3.8/dist-packages (from scikit-learn>=0.21->open3d) (1.2.0)\n",
            "Requirement already satisfied: scipy>=1.1.0 in /usr/local/lib/python3.8/dist-packages (from scikit-learn>=0.21->open3d) (1.7.3)\n",
            "Requirement already satisfied: threadpoolctl>=2.0.0 in /usr/local/lib/python3.8/dist-packages (from scikit-learn>=0.21->open3d) (3.1.0)\n",
            "Requirement already satisfied: Jinja2<3.0,>=2.10.1 in /usr/local/lib/python3.8/dist-packages (from Flask>=1.0.4->dash>=2.6.0->open3d) (2.11.3)\n",
            "Requirement already satisfied: Werkzeug<2.0,>=0.15 in /usr/local/lib/python3.8/dist-packages (from Flask>=1.0.4->dash>=2.6.0->open3d) (1.0.1)\n",
            "Requirement already satisfied: click<8.0,>=5.1 in /usr/local/lib/python3.8/dist-packages (from Flask>=1.0.4->dash>=2.6.0->open3d) (7.1.2)\n",
            "Requirement already satisfied: itsdangerous<2.0,>=0.24 in /usr/local/lib/python3.8/dist-packages (from Flask>=1.0.4->dash>=2.6.0->open3d) (1.1.0)\n",
            "Requirement already satisfied: jupyter-client in /usr/local/lib/python3.8/dist-packages (from ipykernel>=4.5.1->ipywidgets>=7.6.0->open3d) (6.1.12)\n",
            "Requirement already satisfied: tornado>=4.2 in /usr/local/lib/python3.8/dist-packages (from ipykernel>=4.5.1->ipywidgets>=7.6.0->open3d) (6.0.4)\n",
            "Requirement already satisfied: decorator in /usr/local/lib/python3.8/dist-packages (from ipython>=4.0.0->ipywidgets>=7.6.0->open3d) (4.4.2)\n",
            "Requirement already satisfied: backcall in /usr/local/lib/python3.8/dist-packages (from ipython>=4.0.0->ipywidgets>=7.6.0->open3d) (0.2.0)\n",
            "Requirement already satisfied: pexpect in /usr/local/lib/python3.8/dist-packages (from ipython>=4.0.0->ipywidgets>=7.6.0->open3d) (4.8.0)\n",
            "Requirement already satisfied: prompt-toolkit<2.1.0,>=2.0.0 in /usr/local/lib/python3.8/dist-packages (from ipython>=4.0.0->ipywidgets>=7.6.0->open3d) (2.0.10)\n",
            "Requirement already satisfied: setuptools>=18.5 in /usr/local/lib/python3.8/dist-packages (from ipython>=4.0.0->ipywidgets>=7.6.0->open3d) (57.4.0)\n",
            "Requirement already satisfied: pickleshare in /usr/local/lib/python3.8/dist-packages (from ipython>=4.0.0->ipywidgets>=7.6.0->open3d) (0.7.5)\n",
            "Requirement already satisfied: pygments in /usr/local/lib/python3.8/dist-packages (from ipython>=4.0.0->ipywidgets>=7.6.0->open3d) (2.6.1)\n",
            "Collecting jedi>=0.10\n",
            "  Downloading jedi-0.18.2-py2.py3-none-any.whl (1.6 MB)\n",
            "\u001b[2K     \u001b[90m━━━━━━━━━━━━━━━━━━━━━━━━━━━━━━━━━━━━━━━━\u001b[0m \u001b[32m1.6/1.6 MB\u001b[0m \u001b[31m56.0 MB/s\u001b[0m eta \u001b[36m0:00:00\u001b[0m\n",
            "\u001b[?25hRequirement already satisfied: pyrsistent!=0.17.0,!=0.17.1,!=0.17.2,>=0.14.0 in /usr/local/lib/python3.8/dist-packages (from jsonschema>=2.6->nbformat==5.5.0->open3d) (0.19.3)\n",
            "Requirement already satisfied: attrs>=17.4.0 in /usr/local/lib/python3.8/dist-packages (from jsonschema>=2.6->nbformat==5.5.0->open3d) (22.2.0)\n",
            "Requirement already satisfied: importlib-resources>=1.4.0 in /usr/local/lib/python3.8/dist-packages (from jsonschema>=2.6->nbformat==5.5.0->open3d) (5.10.2)\n",
            "Requirement already satisfied: six in /usr/local/lib/python3.8/dist-packages (from plotly>=5.0.0->dash>=2.6.0->open3d) (1.15.0)\n",
            "Requirement already satisfied: tenacity>=6.2.0 in /usr/local/lib/python3.8/dist-packages (from plotly>=5.0.0->dash>=2.6.0->open3d) (8.1.0)\n",
            "Requirement already satisfied: notebook>=4.4.1 in /usr/local/lib/python3.8/dist-packages (from widgetsnbextension~=3.6.0->ipywidgets>=7.6.0->open3d) (5.7.16)\n",
            "Requirement already satisfied: platformdirs>=2.5 in /usr/local/lib/python3.8/dist-packages (from jupyter_core->nbformat==5.5.0->open3d) (2.6.2)\n",
            "Requirement already satisfied: zipp>=3.1.0 in /usr/local/lib/python3.8/dist-packages (from importlib-resources>=1.4.0->jsonschema>=2.6->nbformat==5.5.0->open3d) (3.11.0)\n",
            "Requirement already satisfied: parso<0.9.0,>=0.8.0 in /usr/local/lib/python3.8/dist-packages (from jedi>=0.10->ipython>=4.0.0->ipywidgets>=7.6.0->open3d) (0.8.3)\n",
            "Requirement already satisfied: MarkupSafe>=0.23 in /usr/local/lib/python3.8/dist-packages (from Jinja2<3.0,>=2.10.1->Flask>=1.0.4->dash>=2.6.0->open3d) (2.0.1)\n",
            "Requirement already satisfied: pyzmq>=17 in /usr/local/lib/python3.8/dist-packages (from notebook>=4.4.1->widgetsnbextension~=3.6.0->ipywidgets>=7.6.0->open3d) (23.2.1)\n",
            "Requirement already satisfied: nbconvert<6.0 in /usr/local/lib/python3.8/dist-packages (from notebook>=4.4.1->widgetsnbextension~=3.6.0->ipywidgets>=7.6.0->open3d) (5.6.1)\n",
            "Requirement already satisfied: prometheus-client in /usr/local/lib/python3.8/dist-packages (from notebook>=4.4.1->widgetsnbextension~=3.6.0->ipywidgets>=7.6.0->open3d) (0.15.0)\n",
            "Requirement already satisfied: Send2Trash in /usr/local/lib/python3.8/dist-packages (from notebook>=4.4.1->widgetsnbextension~=3.6.0->ipywidgets>=7.6.0->open3d) (1.8.0)\n",
            "Requirement already satisfied: terminado>=0.8.1 in /usr/local/lib/python3.8/dist-packages (from notebook>=4.4.1->widgetsnbextension~=3.6.0->ipywidgets>=7.6.0->open3d) (0.13.3)\n",
            "Requirement already satisfied: wcwidth in /usr/local/lib/python3.8/dist-packages (from prompt-toolkit<2.1.0,>=2.0.0->ipython>=4.0.0->ipywidgets>=7.6.0->open3d) (0.2.5)\n",
            "Requirement already satisfied: ptyprocess>=0.5 in /usr/local/lib/python3.8/dist-packages (from pexpect->ipython>=4.0.0->ipywidgets>=7.6.0->open3d) (0.7.0)\n",
            "Requirement already satisfied: defusedxml in /usr/local/lib/python3.8/dist-packages (from nbconvert<6.0->notebook>=4.4.1->widgetsnbextension~=3.6.0->ipywidgets>=7.6.0->open3d) (0.7.1)\n",
            "Requirement already satisfied: mistune<2,>=0.8.1 in /usr/local/lib/python3.8/dist-packages (from nbconvert<6.0->notebook>=4.4.1->widgetsnbextension~=3.6.0->ipywidgets>=7.6.0->open3d) (0.8.4)\n",
            "Requirement already satisfied: bleach in /usr/local/lib/python3.8/dist-packages (from nbconvert<6.0->notebook>=4.4.1->widgetsnbextension~=3.6.0->ipywidgets>=7.6.0->open3d) (5.0.1)\n",
            "Requirement already satisfied: entrypoints>=0.2.2 in /usr/local/lib/python3.8/dist-packages (from nbconvert<6.0->notebook>=4.4.1->widgetsnbextension~=3.6.0->ipywidgets>=7.6.0->open3d) (0.4)\n",
            "Requirement already satisfied: pandocfilters>=1.4.1 in /usr/local/lib/python3.8/dist-packages (from nbconvert<6.0->notebook>=4.4.1->widgetsnbextension~=3.6.0->ipywidgets>=7.6.0->open3d) (1.5.0)\n",
            "Requirement already satisfied: testpath in /usr/local/lib/python3.8/dist-packages (from nbconvert<6.0->notebook>=4.4.1->widgetsnbextension~=3.6.0->ipywidgets>=7.6.0->open3d) (0.6.0)\n",
            "Requirement already satisfied: webencodings in /usr/local/lib/python3.8/dist-packages (from bleach->nbconvert<6.0->notebook>=4.4.1->widgetsnbextension~=3.6.0->ipywidgets>=7.6.0->open3d) (0.5.1)\n",
            "Installing collected packages: dash-table, dash-html-components, dash-core-components, addict, pyquaternion, pillow, jedi, configargparse, nbformat, dash, open3d\n",
            "  Attempting uninstall: pillow\n",
            "    Found existing installation: Pillow 7.1.2\n",
            "    Uninstalling Pillow-7.1.2:\n",
            "      Successfully uninstalled Pillow-7.1.2\n",
            "  Attempting uninstall: nbformat\n",
            "    Found existing installation: nbformat 5.7.1\n",
            "    Uninstalling nbformat-5.7.1:\n",
            "      Successfully uninstalled nbformat-5.7.1\n",
            "Successfully installed addict-2.4.0 configargparse-1.5.3 dash-2.8.0 dash-core-components-2.0.0 dash-html-components-2.0.0 dash-table-5.0.0 jedi-0.18.2 nbformat-5.5.0 open3d-0.16.0 pillow-9.4.0 pyquaternion-0.9.9\n"
          ]
        },
        {
          "output_type": "display_data",
          "data": {
            "application/vnd.colab-display-data+json": {
              "pip_warning": {
                "packages": [
                  "PIL"
                ]
              }
            }
          },
          "metadata": {}
        }
      ]
    },
    {
      "cell_type": "code",
      "source": [
        "import numpy as np\n",
        "import pandas as pd\n",
        "import open3d\n",
        "import os\n",
        "import torch\n",
        "import torch.nn as nn\n",
        "\n",
        "from torch.utils.data import DataLoader\n",
        "from keras.utils import to_categorical\n",
        "import tensorflow as tf\n",
        "from sklearn import metrics\n",
        "from sklearn.model_selection import train_test_split\n",
        "\n",
        "from keras.models import Sequential, Model\n",
        "from keras.layers import Dropout\n",
        "from keras.layers import Dense\n",
        "from keras.layers import Embedding\n",
        "from keras.layers import Input\n",
        "from keras.layers import Conv3D\n",
        "from keras.layers import MaxPool3D\n",
        "from keras.layers import Flatten\n",
        "from keras.layers import Concatenate\n",
        "from keras.callbacks import EarlyStopping"
      ],
      "metadata": {
        "id": "G2Jgeng33wV8"
      },
      "execution_count": null,
      "outputs": []
    },
    {
      "cell_type": "markdown",
      "source": [
        "# DATA PREPARATION\n",
        "Take the voxel Grid file and trasform it into 3D numpy array of dimensions (32,32,32,1) in order to use them as input for the CNN\n"
      ],
      "metadata": {
        "id": "J99A0gKWsPWH"
      }
    },
    {
      "cell_type": "code",
      "source": [
        "#Prepare DATA\n",
        "class_folders = os.listdir('/content/drive/MyDrive/ModelNet10_Voxel')\n",
        "\n",
        "print(class_folders)\n",
        "i = -1\n"
      ],
      "metadata": {
        "colab": {
          "base_uri": "https://localhost:8080/"
        },
        "id": "GMc5N2MUVZff",
        "outputId": "c09a12da-f497-4be2-ffcb-96d7d4afb739"
      },
      "execution_count": null,
      "outputs": [
        {
          "output_type": "stream",
          "name": "stdout",
          "text": [
            "Labels:\n",
            "night_stand 0\n",
            "bathtub 1\n",
            "monitor 2\n",
            "dresser 3\n",
            "table 4\n",
            "bed 5\n",
            "chair 6\n",
            "sofa 7\n",
            "toilet 8\n",
            "desk 9\n"
          ]
        }
      ]
    },
    {
      "cell_type": "code",
      "source": [
        "def cutout_3d(volume, cutout_size=(8,8,8)):\n",
        "    # Shape is 32x32x32\n",
        "    x = np.random.randint(0, 32 - cutout_size[0])\n",
        "    y = np.random.randint(0, 32 - cutout_size[1])\n",
        "    z = np.random.randint(0, 32 - cutout_size[2])\n",
        "    cutout_cube = (x, y, z, cutout_size[0], cutout_size[1], cutout_size[2])\n",
        "    volume[x:x+cutout_size[0], y:y+cutout_size[1], z:z+cutout_size[2]] = 0\n",
        "    return volume"
      ],
      "metadata": {
        "id": "Q6KWmXoo6fMq"
      },
      "execution_count": null,
      "outputs": []
    },
    {
      "cell_type": "code",
      "source": [
        "#Extrapolate the voxels from the file \n",
        "def process_off_file(filepath):\n",
        "\n",
        "    voxel = open3d.io.read_voxel_grid(filepath)\n",
        "    return voxel\n",
        "\n",
        "#Prepare DATA\n",
        "train_data_raw = []\n",
        "train_labels = []\n",
        "test_data_raw = []\n",
        "test_labels = []\n",
        "\n",
        "i = -1\n",
        "#Extrapolate data from the dataset\n",
        "for class_folder in class_folders:\n",
        "  train_files = os.listdir(f'/content/drive/MyDrive/ModelNet10_Voxel/{class_folder}/train')\n",
        "  test_files = os.listdir(f'/content/drive/MyDrive/ModelNet10_Voxel/{class_folder}/test')\n",
        "  i = i + 1\n",
        "  for train_file in train_files:\n",
        "      \n",
        "      filepath = f'/content/drive/MyDrive/ModelNet10_Voxel/{class_folder}/train/{train_file}'\n",
        "      points = process_off_file(filepath)\n",
        "      train_data_raw.append(points)\n",
        "      train_labels.append(i)\n",
        "      \n",
        "\n",
        "  for test_file in test_files:\n",
        "      filepath = f'/content/drive/MyDrive/ModelNet10_Voxel/{class_folder}/test/{test_file}'\n",
        "      points = process_off_file(filepath)\n",
        "      test_data_raw.append(points)\n",
        "      test_labels.append(i)"
      ],
      "metadata": {
        "id": "BRzqopIYMWhs",
        "colab": {
          "base_uri": "https://localhost:8080/"
        },
        "outputId": "aff8fd53-b602-49ef-d9e3-54bb274409eb"
      },
      "execution_count": null,
      "outputs": [
        {
          "output_type": "stream",
          "name": "stdout",
          "text": [
            "['night_stand', 'bathtub', 'monitor', 'dresser', 'table', 'bed', 'chair', 'sofa', 'toilet', 'desk']\n"
          ]
        }
      ]
    },
    {
      "cell_type": "code",
      "source": [
        "# Transform the Voxel Grid into Numpy Array containing a list of voxels \n",
        "train_data_numpy = []\n",
        "test_data_numpy = []\n",
        "\n",
        "#First step: Each array to voxels \n",
        "for i in range(len(train_data_raw)):\n",
        "  train_data_numpy.append(np.asarray(train_data_raw[i].get_voxels()))\n",
        "\n",
        "for i in range(len(test_data_raw)):\n",
        "  test_data_numpy.append(np.asarray(test_data_raw[i].get_voxels()))\n",
        "\n",
        "test_data_raw = []\n",
        "train_data_raw = []\n",
        "#print(test_data_numpy[0])"
      ],
      "metadata": {
        "id": "7RwhNMNPOJ7V"
      },
      "execution_count": null,
      "outputs": []
    },
    {
      "cell_type": "code",
      "source": [
        "#For each sample create an Array of dimension (32,32,32,1) with true where voxels are\n",
        "array_train_ready = []\n",
        "array_test_ready = []\n",
        "\n",
        "for i in range(len(train_data_numpy)):\n",
        "  array_temp = np.zeros((32, 32, 32,1))\n",
        "  for j in range(len(train_data_numpy[i])):\n",
        "      array_temp[train_data_numpy[i][j].grid_index[0],train_data_numpy[i][j].grid_index[1],train_data_numpy[i][j].grid_index[2]] = 1\n",
        "  array_train_ready.append(array_temp)\n",
        "\n",
        "for i in range(len(test_data_numpy)):\n",
        "  array_temp = np.zeros((32, 32, 32,1))\n",
        "  for j in range(len(test_data_numpy[i])):\n",
        "      array_temp[test_data_numpy[i][j].grid_index[0],test_data_numpy[i][j].grid_index[1],test_data_numpy[i][j].grid_index[2]] = 1\n",
        "  array_test_ready.append(array_temp)"
      ],
      "metadata": {
        "id": "plEAzMVHzZWd"
      },
      "execution_count": null,
      "outputs": []
    },
    {
      "cell_type": "code",
      "source": [
        "array_train_ready = np.asarray(array_train_ready) #len 3950\n",
        "print(len(array_train_ready))\n",
        "array_test_ready = np.asarray(array_test_ready) #len 908\n",
        "print(len(array_test_ready))"
      ],
      "metadata": {
        "id": "f6CQpHz9ySNO",
        "colab": {
          "base_uri": "https://localhost:8080/"
        },
        "outputId": "e0867e55-4738-45c8-c944-1499d76984e5"
      },
      "execution_count": null,
      "outputs": [
        {
          "output_type": "stream",
          "name": "stdout",
          "text": [
            "3621\n",
            "908\n"
          ]
        }
      ]
    },
    {
      "cell_type": "markdown",
      "source": [
        "# RETE PIU' PICCOLA DI TEST\n"
      ],
      "metadata": {
        "id": "SVSEsyr6hl9R"
      }
    },
    {
      "cell_type": "code",
      "source": [
        "from keras.layers import Conv3D, MaxPooling3D, Flatten, Dense\n",
        "from keras.models import Sequential\n",
        "\n",
        "# create model\n",
        "model = Sequential()\n",
        "\n",
        "# add convolutional layers\n",
        "model.add(Conv3D(32, kernel_size=(3, 3, 3), input_shape=(32, 32, 32, 1), activation='relu'))\n",
        "model.add(MaxPooling3D(pool_size=(3, 3, 3)))\n",
        "model.add(Conv3D(64, kernel_size=(3, 3, 3), activation='relu'))\n",
        "model.add(MaxPooling3D(pool_size=(3, 3, 3)))\n",
        "\n",
        "# add flatten layer\n",
        "model.add(Flatten())\n",
        "\n",
        "# add dense layers\n",
        "model.add(Dense(128, activation='relu'))\n",
        "model.add(Dense(10, activation='softmax'))\n",
        "\n",
        "# compile model\n",
        "model.compile(loss='categorical_crossentropy', optimizer='adam', metrics=['accuracy'])\n"
      ],
      "metadata": {
        "id": "woBXloghc131"
      },
      "execution_count": null,
      "outputs": []
    },
    {
      "cell_type": "code",
      "source": [
        "#Add a shuffle for array array_ready !!\n",
        "#New train with callback (implemented)\n",
        "#Add a little test set using a couple example for each \n",
        "\n",
        "num_classes = 10\n",
        "# load your dataset of voxel grids and labels\n",
        "X_train = np.array(array_train_ready)\n",
        "y_train = np.array(train_labels)\n",
        "X_test = np.array(array_test_ready)\n",
        "y_test = np.array(test_labels)\n",
        "\n",
        "#Shuffle the train set\n",
        "idx = np.random.permutation(len(X_train))\n",
        "X_train, y_train = X_train[idx], y_train[idx]\n",
        "\n",
        "#Shuffle the validation set\n",
        "idt = np.random.permutation(len(X_test))\n",
        "X_test, y_test = X_test[idt], y_test[idt]\n",
        "\n",
        "#Train set contains 80% of data and test set 20%\n",
        "#We will use half of the test set for validation, and half for the test\n",
        "#Approximately 80/10/10\n",
        "\n",
        "half_set = int((len(X_test)/2))\n",
        "\n",
        "X_validation = X_test[:half_set]\n",
        "y_validation = y_test[:half_set]\n",
        "\n",
        "X_test = X_test[half_set:]\n",
        "y_test = y_test[half_set:]\n",
        "\n",
        "# convert labels to categorical format\n",
        "y_train = to_categorical(y_train, num_classes)\n",
        "y_validation = to_categorical(y_validation, num_classes) \n",
        "y_test = to_categorical(y_test, num_classes)\n",
        "\n",
        "print(\"Train test: \" + str(len(y_train)))\n",
        "print(\"Validation test: \" + str(len(y_validation)))\n",
        "print(\"Test test: \" + str(len(y_test)))"
      ],
      "metadata": {
        "id": "KiaL_RF8KoeY",
        "colab": {
          "base_uri": "https://localhost:8080/"
        },
        "outputId": "6eca0bd5-5b11-4bcf-a846-1296a3d641a7"
      },
      "execution_count": null,
      "outputs": [
        {
          "output_type": "stream",
          "name": "stdout",
          "text": [
            "Train test: 3621\n",
            "Validation test: 454\n",
            "Test test: 454\n"
          ]
        }
      ]
    },
    {
      "cell_type": "code",
      "source": [
        "#From the 4000 samples create a random 1000 CUTOUT \n",
        "#FROM train samples 15% CUTOUT\n",
        "#Cutout is a data augmentation technique that randomly masks out rectangular regions of input arrays. \n",
        "#This can help the model to learn to ignore irrelevant features and generalize better.\n",
        "\n",
        "for i in range(int(len(X_train)*0.25)):\n",
        "  X_train[i] = cutout_3d(X_train[i])\n",
        "\n",
        "idx = np.random.permutation(len(X_train))\n",
        "X_train, y_train = X_train[idx], y_train[idx]\n",
        "\n",
        "#print(y_train[:10])"
      ],
      "metadata": {
        "id": "u6viW8v-7MlS"
      },
      "execution_count": null,
      "outputs": []
    },
    {
      "cell_type": "code",
      "source": [
        "from keras.callbacks import ModelCheckpoint\n",
        "\n",
        "# Create a ModelCheckpoint object that saves the model's weights only when the accuracy improves\n",
        "checkpoint = ModelCheckpoint('best_model.h5', save_best_only=True, monitor='val_accuracy', mode='max', verbose=1)\n"
      ],
      "metadata": {
        "id": "5MRWm1CnKhGV"
      },
      "execution_count": null,
      "outputs": []
    },
    {
      "cell_type": "code",
      "source": [
        "# Train the model and pass the ModelCheckpoint object as a callback\n",
        "history = model.fit(X_train, y_train, epochs=15, validation_data=(X_validation, y_validation), callbacks=[checkpoint])"
      ],
      "metadata": {
        "id": "AWvFJ19umqxn",
        "colab": {
          "base_uri": "https://localhost:8080/"
        },
        "outputId": "0c4a3e3a-f95a-4022-93c1-bf7099ad3a36"
      },
      "execution_count": null,
      "outputs": [
        {
          "output_type": "stream",
          "name": "stdout",
          "text": [
            "Epoch 1/15\n",
            "114/114 [==============================] - ETA: 0s - loss: 0.8808 - accuracy: 0.7189\n",
            "Epoch 1: val_accuracy improved from -inf to 0.78855, saving model to best_model.h5\n",
            "114/114 [==============================] - 12s 30ms/step - loss: 0.8808 - accuracy: 0.7189 - val_loss: 0.5572 - val_accuracy: 0.7885\n",
            "Epoch 2/15\n",
            "112/114 [============================>.] - ETA: 0s - loss: 0.3695 - accuracy: 0.8795\n",
            "Epoch 2: val_accuracy improved from 0.78855 to 0.83921, saving model to best_model.h5\n",
            "114/114 [==============================] - 3s 26ms/step - loss: 0.3702 - accuracy: 0.8793 - val_loss: 0.4468 - val_accuracy: 0.8392\n",
            "Epoch 3/15\n",
            "113/114 [============================>.] - ETA: 0s - loss: 0.2513 - accuracy: 0.9145\n",
            "Epoch 3: val_accuracy improved from 0.83921 to 0.87004, saving model to best_model.h5\n",
            "114/114 [==============================] - 3s 24ms/step - loss: 0.2517 - accuracy: 0.9144 - val_loss: 0.4427 - val_accuracy: 0.8700\n",
            "Epoch 4/15\n",
            "113/114 [============================>.] - ETA: 0s - loss: 0.1846 - accuracy: 0.9347\n",
            "Epoch 4: val_accuracy did not improve from 0.87004\n",
            "114/114 [==============================] - 3s 24ms/step - loss: 0.1845 - accuracy: 0.9348 - val_loss: 0.4107 - val_accuracy: 0.8634\n",
            "Epoch 5/15\n",
            "114/114 [==============================] - ETA: 0s - loss: 0.1518 - accuracy: 0.9456\n",
            "Epoch 5: val_accuracy did not improve from 0.87004\n",
            "114/114 [==============================] - 3s 24ms/step - loss: 0.1518 - accuracy: 0.9456 - val_loss: 0.4728 - val_accuracy: 0.8458\n",
            "Epoch 6/15\n",
            "114/114 [==============================] - ETA: 0s - loss: 0.1106 - accuracy: 0.9624\n",
            "Epoch 6: val_accuracy improved from 0.87004 to 0.87885, saving model to best_model.h5\n",
            "114/114 [==============================] - 3s 24ms/step - loss: 0.1106 - accuracy: 0.9624 - val_loss: 0.4232 - val_accuracy: 0.8789\n",
            "Epoch 7/15\n",
            "114/114 [==============================] - ETA: 0s - loss: 0.0840 - accuracy: 0.9713\n",
            "Epoch 7: val_accuracy did not improve from 0.87885\n",
            "114/114 [==============================] - 3s 24ms/step - loss: 0.0840 - accuracy: 0.9713 - val_loss: 0.4542 - val_accuracy: 0.8789\n",
            "Epoch 8/15\n",
            "114/114 [==============================] - ETA: 0s - loss: 0.0938 - accuracy: 0.9649\n",
            "Epoch 8: val_accuracy did not improve from 0.87885\n",
            "114/114 [==============================] - 3s 24ms/step - loss: 0.0938 - accuracy: 0.9649 - val_loss: 0.5392 - val_accuracy: 0.8656\n",
            "Epoch 9/15\n",
            "114/114 [==============================] - ETA: 0s - loss: 0.0557 - accuracy: 0.9809\n",
            "Epoch 9: val_accuracy improved from 0.87885 to 0.88106, saving model to best_model.h5\n",
            "114/114 [==============================] - 3s 24ms/step - loss: 0.0557 - accuracy: 0.9809 - val_loss: 0.4711 - val_accuracy: 0.8811\n",
            "Epoch 10/15\n",
            "113/114 [============================>.] - ETA: 0s - loss: 0.0513 - accuracy: 0.9817\n",
            "Epoch 10: val_accuracy did not improve from 0.88106\n",
            "114/114 [==============================] - 3s 26ms/step - loss: 0.0513 - accuracy: 0.9818 - val_loss: 0.5834 - val_accuracy: 0.8546\n",
            "Epoch 11/15\n",
            "114/114 [==============================] - ETA: 0s - loss: 0.0431 - accuracy: 0.9867\n",
            "Epoch 11: val_accuracy did not improve from 0.88106\n",
            "114/114 [==============================] - 3s 24ms/step - loss: 0.0431 - accuracy: 0.9867 - val_loss: 0.4710 - val_accuracy: 0.8811\n",
            "Epoch 12/15\n",
            "112/114 [============================>.] - ETA: 0s - loss: 0.0327 - accuracy: 0.9877\n",
            "Epoch 12: val_accuracy did not improve from 0.88106\n",
            "114/114 [==============================] - 3s 24ms/step - loss: 0.0325 - accuracy: 0.9878 - val_loss: 0.5836 - val_accuracy: 0.8656\n",
            "Epoch 13/15\n",
            "114/114 [==============================] - ETA: 0s - loss: 0.0395 - accuracy: 0.9859\n",
            "Epoch 13: val_accuracy did not improve from 0.88106\n",
            "114/114 [==============================] - 3s 24ms/step - loss: 0.0395 - accuracy: 0.9859 - val_loss: 0.6242 - val_accuracy: 0.8590\n",
            "Epoch 14/15\n",
            "112/114 [============================>.] - ETA: 0s - loss: 0.0297 - accuracy: 0.9905\n",
            "Epoch 14: val_accuracy did not improve from 0.88106\n",
            "114/114 [==============================] - 3s 24ms/step - loss: 0.0294 - accuracy: 0.9906 - val_loss: 0.6011 - val_accuracy: 0.8678\n",
            "Epoch 15/15\n",
            "114/114 [==============================] - ETA: 0s - loss: 0.0280 - accuracy: 0.9920\n",
            "Epoch 15: val_accuracy improved from 0.88106 to 0.88546, saving model to best_model.h5\n",
            "114/114 [==============================] - 3s 25ms/step - loss: 0.0280 - accuracy: 0.9920 - val_loss: 0.5436 - val_accuracy: 0.8855\n"
          ]
        }
      ]
    },
    {
      "cell_type": "markdown",
      "source": [],
      "metadata": {
        "id": "HUR64PSVdzrL"
      }
    },
    {
      "cell_type": "code",
      "source": [
        "from keras.models import load_model\n",
        "#Save model\n",
        "model.save('model.h5')\n",
        "#Save weights\n",
        "model.save_weights('model_weights.h5')"
      ],
      "metadata": {
        "id": "jJZLnBVFIxQv"
      },
      "execution_count": null,
      "outputs": []
    },
    {
      "cell_type": "code",
      "source": [
        "score = model.evaluate(X_test, y_test, verbose=0)\n",
        "print(\"Loss on test set: \" + str(score[0]))\n",
        "print(\"Accuracy on test set: \" + str(score[1]))"
      ],
      "metadata": {
        "id": "soswWBqSX6wF",
        "colab": {
          "base_uri": "https://localhost:8080/"
        },
        "outputId": "a9b55369-2e28-44b9-d6b4-3964c6274ab5"
      },
      "execution_count": null,
      "outputs": [
        {
          "output_type": "stream",
          "name": "stdout",
          "text": [
            "Loss on test set: 0.4686940610408783\n",
            "Accuracy on test set: 0.8810572624206543\n"
          ]
        }
      ]
    },
    {
      "cell_type": "code",
      "source": [
        "tensor = []\n",
        "tensor.append(X_test[0])\n",
        "print(y_test[0])\n",
        "tensor = np.asarray(tensor)\n",
        "print(tensor.shape)\n",
        "y = model.predict(tensor)\n",
        "for i in range(len(y)):\n",
        "  print(y[i])"
      ],
      "metadata": {
        "colab": {
          "base_uri": "https://localhost:8080/"
        },
        "id": "OcoF6pbTXbF7",
        "outputId": "a9c4f935-6695-4796-c9f9-197d65aec662"
      },
      "execution_count": null,
      "outputs": [
        {
          "output_type": "stream",
          "name": "stdout",
          "text": [
            "[0. 0. 0. 0. 0. 1. 0. 0. 0. 0.]\n",
            "(1, 32, 32, 32, 1)\n",
            "1/1 [==============================] - 0s 14ms/step\n",
            "[2.8176753e-10 1.6855187e-08 2.8985261e-09 4.4157681e-11 2.5736397e-09\n",
            " 9.9999988e-01 9.2570656e-12 1.4413493e-07 4.6326733e-08 9.7084811e-09]\n"
          ]
        }
      ]
    }
  ]
}